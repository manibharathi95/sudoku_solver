{
 "cells": [
  {
   "cell_type": "code",
   "execution_count": 4,
   "metadata": {},
   "outputs": [
    {
     "name": "stdout",
     "output_type": "stream",
     "text": [
      "True\n",
      "[[3, 9, 1, 8, 5, 6, 4, 2, 7], [8, 6, 7, 2, 3, 4, 9, 1, 5], [4, 2, 5, 7, 1, 9, 6, 8, 3], [7, 5, 4, 9, 6, 8, 1, 3, 2], [2, 1, 6, 4, 7, 3, 5, 9, 8], [9, 3, 8, 5, 2, 1, 7, 6, 4], [5, 4, 3, 6, 9, 2, 8, 7, 1], [6, 7, 2, 1, 8, 5, 3, 4, 9], [1, 8, 9, 3, 4, 7, 2, 5, 6]]\n"
     ]
    }
   ],
   "source": [
    "def find_next_empty(puzzle):\r\n",
    "    # finds the next row, col on the puzzle that is empty \r\n",
    "    # i.e., return next place with -1\r\n",
    "    for r in range(0,9):\r\n",
    "        for c in range(0,9):\r\n",
    "            if puzzle[r][c] == -1:\r\n",
    "                return (r,c)\r\n",
    "    return (None, None)\r\n",
    "\r\n",
    "def is_valid(puzzle, guess, row, col):\r\n",
    "    # Checks whether the guess is valid at the row/col\r\n",
    "    # Lets check in the row:\r\n",
    "    row_vals = puzzle[row]\r\n",
    "    if guess in row_vals:\r\n",
    "        return False\r\n",
    "\r\n",
    "    #Lets check in the column:\r\n",
    "    col_vals = []\r\n",
    "    for i in range(9):\r\n",
    "        col_vals.append(puzzle[i][col]) # or [puzzle[i][col] for i in range(9)]\r\n",
    "    if guess in col_vals:\r\n",
    "        return False\r\n",
    "    \r\n",
    "    # Lets check the square\r\n",
    "    row_start = (row // 3) * 3\r\n",
    "    col_start = (col // 3) * 3\r\n",
    "    for r in range(row_start, row_start+3):\r\n",
    "        for c in range(col_start, col_start+3):\r\n",
    "            if guess == puzzle[r][c]:\r\n",
    "                return False\r\n",
    "    \r\n",
    "    # if there is no False then the number is valid\r\n",
    "    return True\r\n",
    "\r\n",
    "def solve_sudoku(puzzle):\r\n",
    "    # solve using backtraacking\r\n",
    "    # puzzle is a list of list\r\n",
    "    # mutates the puzzle to find the solution\r\n",
    "    \r\n",
    "    # Step 1: Choose an empty space to begin \r\n",
    "    row, col = find_next_empty(puzzle)\r\n",
    "    \r\n",
    "    # Step 1.1: If there is no empty space, then we are done.\r\n",
    "    if row is None:\r\n",
    "        return True\r\n",
    "\r\n",
    "    # Step 2: if there is a place to put the guess, then make a guess between 1 to 9\r\n",
    "    for guess in range(1,10):\r\n",
    "        # Step 3: Check if this is a valid guess\r\n",
    "        if is_valid(puzzle, guess, row, col):\r\n",
    "            # replace the guess at that place\r\n",
    "            puzzle [row][col] = guess\r\n",
    "\r\n",
    "            # Now recurse using this Puzzle!\r\n",
    "            # Step 4: Recursively call our function\r\n",
    "            if solve_sudoku(puzzle):\r\n",
    "                return True\r\n",
    "\r\n",
    "        # Step 5: if not valid or if the guess doesnot solve the puzzle then backtrack\r\n",
    "        puzzle[row][col] = -1\r\n",
    "    \r\n",
    "    # If none of the number works, then unsoleable\r\n",
    "    return False\r\n",
    "\r\n",
    "if __name__ == '__main__':\r\n",
    "    example_board = [\r\n",
    "        [3, 9, -1,   -1, 5, -1,   -1, -1, -1],\r\n",
    "        [-1, -1, -1,   2, -1, -1,   -1, -1, 5],\r\n",
    "        [-1, -1, -1,   7, 1, 9,   -1, 8, -1],\r\n",
    "\r\n",
    "        [-1, 5, -1,   -1, 6, 8,   -1, -1, -1],\r\n",
    "        [2, -1, 6,   -1, -1, 3,   -1, -1, -1],\r\n",
    "        [-1, -1, -1,   -1, -1, -1,   -1, -1, 4],\r\n",
    "\r\n",
    "        [5, -1, -1,   -1, -1, -1,   -1, -1, -1],\r\n",
    "        [6, 7, -1,   1, -1, 5,   -1, 4, -1],\r\n",
    "        [1, -1, 9,   -1, -1, -1,   2, -1, -1]]\r\n",
    "    print(solve_sudoku(example_board))\r\n",
    "    print(example_board)\r\n",
    "\r\n",
    "\r\n"
   ]
  },
  {
   "cell_type": "code",
   "execution_count": null,
   "metadata": {},
   "outputs": [],
   "source": []
  }
 ],
 "metadata": {
  "kernelspec": {
   "display_name": "Python 3.9.2 64-bit",
   "metadata": {
    "interpreter": {
     "hash": "c833fa359286abb709aa77938a1eebf57e16ec6e5c680652a6b5dfb7f030446b"
    }
   },
   "name": "python3"
  },
  "language_info": {
   "codemirror_mode": {
    "name": "ipython",
    "version": 3
   },
   "file_extension": ".py",
   "mimetype": "text/x-python",
   "name": "python",
   "nbconvert_exporter": "python",
   "pygments_lexer": "ipython3",
   "version": "3.9.2"
  },
  "orig_nbformat": 2
 },
 "nbformat": 4,
 "nbformat_minor": 2
}